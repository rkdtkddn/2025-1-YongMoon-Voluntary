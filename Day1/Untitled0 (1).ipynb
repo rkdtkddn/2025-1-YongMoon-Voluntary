{
  "nbformat": 4,
  "nbformat_minor": 0,
  "metadata": {
    "colab": {
      "provenance": []
    },
    "kernelspec": {
      "name": "python3",
      "display_name": "Python 3"
    },
    "language_info": {
      "name": "python"
    }
  },
  "cells": [
    {
      "cell_type": "code",
      "source": [
        "import torch\n",
        "data = [[1,2],[3,4]]\n",
        "x_data=torch.tensor(data)\n",
        "print(x_data)\n",
        "tensor = x_data\n",
        "tensor[:,1] = 0\n",
        "print(tensor)\n",
        "y1=tensor @ tensor.T\n",
        "\n",
        "y2=tensor.matmul(tensor.T)\n",
        "\n",
        "print(y1)\n",
        "print(y2)"
      ],
      "metadata": {
        "colab": {
          "base_uri": "https://localhost:8080/"
        },
        "id": "7HMcIwJjGv5L",
        "outputId": "26ced3eb-63e4-4a10-d89b-76f139ab9afa"
      },
      "execution_count": 9,
      "outputs": [
        {
          "output_type": "stream",
          "name": "stdout",
          "text": [
            "tensor([[1, 2],\n",
            "        [3, 4]])\n",
            "tensor([[1, 0],\n",
            "        [3, 0]])\n",
            "tensor([[1, 3],\n",
            "        [3, 9]])\n",
            "tensor([[1, 3],\n",
            "        [3, 9]])\n"
          ]
        }
      ]
    }
  ]
}